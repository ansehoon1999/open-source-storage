{
 "cells": [
  {
   "cell_type": "code",
   "execution_count": 2,
   "metadata": {},
   "outputs": [
    {
     "name": "stdout",
     "output_type": "stream",
     "text": [
      "Requirement already satisfied: torchvision in c:\\users\\pc\\anaconda3\\lib\\site-packages (0.11.2+cu102)\n",
      "Requirement already satisfied: numpy in c:\\users\\pc\\anaconda3\\lib\\site-packages (from torchvision) (1.19.4)\n",
      "Requirement already satisfied: pillow!=8.3.0,>=5.3.0 in c:\\users\\pc\\anaconda3\\lib\\site-packages (from torchvision) (7.0.0)\n",
      "Requirement already satisfied: torch==1.10.1 in c:\\users\\pc\\anaconda3\\lib\\site-packages (from torchvision) (1.10.1+cu102)\n",
      "Requirement already satisfied: typing-extensions in c:\\users\\pc\\anaconda3\\lib\\site-packages (from torch==1.10.1->torchvision) (3.7.4.3)\n"
     ]
    },
    {
     "name": "stderr",
     "output_type": "stream",
     "text": [
      "WARNING: You are using pip version 21.0; however, version 21.3.1 is available.\n",
      "You should consider upgrading via the 'c:\\users\\pc\\anaconda3\\python.exe -m pip install --upgrade pip' command.\n"
     ]
    }
   ],
   "source": [
    "!pip install torchvision"
   ]
  },
  {
   "cell_type": "code",
   "execution_count": 18,
   "metadata": {},
   "outputs": [
    {
     "name": "stdout",
     "output_type": "stream",
     "text": [
      "0.11.2+cu102\n"
     ]
    }
   ],
   "source": [
    "''' 1. Module Import '''\n",
    "import numpy as np\n",
    "import matplotlib.pyplot as plt\n",
    "\n",
    "import torch\n",
    "import torch.nn as nn\n",
    "import torch.nn.functional as F\n",
    "from torchvision import transforms, datasets\n",
    "import torchvision\n",
    "print(torchvision.__version__)"
   ]
  },
  {
   "cell_type": "code",
   "execution_count": 4,
   "metadata": {},
   "outputs": [
    {
     "name": "stdout",
     "output_type": "stream",
     "text": [
      "Using PyTorch version: 1.10.1+cu102  Device: cpu\n"
     ]
    }
   ],
   "source": [
    "''' 2. 딥러닝 모델을 설계할 때 활용하는 장비 확인 '''\n",
    "if torch.cuda.is_available():\n",
    "    DEVICE = torch.device('cuda')\n",
    "else:\n",
    "    DEVICE = torch.device('cpu')\n",
    "print('Using PyTorch version:', torch.__version__, ' Device:', DEVICE)"
   ]
  },
  {
   "cell_type": "code",
   "execution_count": 5,
   "metadata": {},
   "outputs": [],
   "source": [
    "BATCH_SIZE = 32\n",
    "EPOCHS = 10"
   ]
  },
  {
   "cell_type": "code",
   "execution_count": 6,
   "metadata": {},
   "outputs": [
    {
     "name": "stdout",
     "output_type": "stream",
     "text": [
      "Downloading http://yann.lecun.com/exdb/mnist/train-images-idx3-ubyte.gz\n",
      "Downloading http://yann.lecun.com/exdb/mnist/train-images-idx3-ubyte.gz to ../data/MNIST\\MNIST\\raw\\train-images-idx3-ubyte.gz\n"
     ]
    },
    {
     "data": {
      "application/vnd.jupyter.widget-view+json": {
       "model_id": "211219e0b3a4460a828b35086a4af925",
       "version_major": 2,
       "version_minor": 0
      },
      "text/plain": [
       "HBox(children=(FloatProgress(value=0.0, max=9912422.0), HTML(value='')))"
      ]
     },
     "metadata": {},
     "output_type": "display_data"
    },
    {
     "name": "stdout",
     "output_type": "stream",
     "text": [
      "\n",
      "Extracting ../data/MNIST\\MNIST\\raw\\train-images-idx3-ubyte.gz to ../data/MNIST\\MNIST\\raw\n",
      "\n",
      "Downloading http://yann.lecun.com/exdb/mnist/train-labels-idx1-ubyte.gz\n",
      "Downloading http://yann.lecun.com/exdb/mnist/train-labels-idx1-ubyte.gz to ../data/MNIST\\MNIST\\raw\\train-labels-idx1-ubyte.gz\n"
     ]
    },
    {
     "data": {
      "application/vnd.jupyter.widget-view+json": {
       "model_id": "75720e548a66465baf026140af24e088",
       "version_major": 2,
       "version_minor": 0
      },
      "text/plain": [
       "HBox(children=(FloatProgress(value=0.0, max=28881.0), HTML(value='')))"
      ]
     },
     "metadata": {},
     "output_type": "display_data"
    },
    {
     "name": "stdout",
     "output_type": "stream",
     "text": [
      "\n",
      "Extracting ../data/MNIST\\MNIST\\raw\\train-labels-idx1-ubyte.gz to ../data/MNIST\\MNIST\\raw\n",
      "\n",
      "Downloading http://yann.lecun.com/exdb/mnist/t10k-images-idx3-ubyte.gz\n",
      "Downloading http://yann.lecun.com/exdb/mnist/t10k-images-idx3-ubyte.gz to ../data/MNIST\\MNIST\\raw\\t10k-images-idx3-ubyte.gz\n"
     ]
    },
    {
     "data": {
      "application/vnd.jupyter.widget-view+json": {
       "model_id": "23e16467ab68485690c11dfbaa848fc7",
       "version_major": 2,
       "version_minor": 0
      },
      "text/plain": [
       "HBox(children=(FloatProgress(value=0.0, max=1648877.0), HTML(value='')))"
      ]
     },
     "metadata": {},
     "output_type": "display_data"
    },
    {
     "name": "stdout",
     "output_type": "stream",
     "text": [
      "\n",
      "Extracting ../data/MNIST\\MNIST\\raw\\t10k-images-idx3-ubyte.gz to ../data/MNIST\\MNIST\\raw\n",
      "\n",
      "Downloading http://yann.lecun.com/exdb/mnist/t10k-labels-idx1-ubyte.gz\n",
      "Downloading http://yann.lecun.com/exdb/mnist/t10k-labels-idx1-ubyte.gz to ../data/MNIST\\MNIST\\raw\\t10k-labels-idx1-ubyte.gz\n"
     ]
    },
    {
     "data": {
      "application/vnd.jupyter.widget-view+json": {
       "model_id": "f1e1fe8abb5643ca8e0d08b8393faaf0",
       "version_major": 2,
       "version_minor": 0
      },
      "text/plain": [
       "HBox(children=(FloatProgress(value=0.0, max=4542.0), HTML(value='')))"
      ]
     },
     "metadata": {},
     "output_type": "display_data"
    },
    {
     "name": "stdout",
     "output_type": "stream",
     "text": [
      "\n",
      "Extracting ../data/MNIST\\MNIST\\raw\\t10k-labels-idx1-ubyte.gz to ../data/MNIST\\MNIST\\raw\n",
      "\n"
     ]
    }
   ],
   "source": [
    "''' 3. MNIST 데이터 다운로드 (Train set, Test set 분리하기) '''\n",
    "train_dataset = datasets.MNIST(root = \"../data/MNIST\",\n",
    "                               train = True,\n",
    "                               download = True,\n",
    "                               transform = transforms.ToTensor())\n",
    "\n",
    "test_dataset = datasets.MNIST(root = \"../data/MNIST\",\n",
    "                              train = False,\n",
    "                              transform = transforms.ToTensor())\n",
    "\n",
    "train_loader = torch.utils.data.DataLoader(dataset = train_dataset,\n",
    "                                           batch_size = BATCH_SIZE,\n",
    "                                           shuffle = True)\n",
    "\n",
    "test_loader = torch.utils.data.DataLoader(dataset = test_dataset,\n",
    "                                          batch_size = BATCH_SIZE,\n",
    "                                          shuffle = False)"
   ]
  },
  {
   "cell_type": "code",
   "execution_count": 7,
   "metadata": {},
   "outputs": [
    {
     "name": "stdout",
     "output_type": "stream",
     "text": [
      "X_train: torch.Size([32, 1, 28, 28]) type: torch.FloatTensor\n",
      "y_train: torch.Size([32]) type: torch.LongTensor\n"
     ]
    }
   ],
   "source": [
    "''' 4. 데이터 확인하기 (1) '''\n",
    "for (X_train, y_train) in train_loader:\n",
    "    print('X_train:', X_train.size(), 'type:', X_train.type())\n",
    "    print('y_train:', y_train.size(), 'type:', y_train.type())\n",
    "    break"
   ]
  },
  {
   "cell_type": "code",
   "execution_count": 8,
   "metadata": {},
   "outputs": [
    {
     "data": {
      "image/png": "[encoded data removed]",
      "text/plain": [
       "<Figure size 720x72 with 10 Axes>"
      ]
     },
     "metadata": {
      "needs_background": "light"
     },
     "output_type": "display_data"
    }
   ],
   "source": [
    "''' 5. 데이터 확인하기 (2) '''\n",
    "pltsize = 1\n",
    "plt.figure(figsize=(10 * pltsize, pltsize))\n",
    "for i in range(10):\n",
    "    plt.subplot(1, 10, i + 1)\n",
    "    plt.axis('off')\n",
    "    plt.imshow(X_train[i, :, :, :].numpy().reshape(28, 28), cmap = \"gray_r\")\n",
    "    plt.title('Class: ' + str(y_train[i].item()))"
   ]
  },
  {
   "cell_type": "code",
   "execution_count": 9,
   "metadata": {},
   "outputs": [],
   "source": [
    "''' 6. Multi Layer Perceptron (MLP) 모델 설계하기 '''\n",
    "class Net(nn.Module):\n",
    "    def __init__(self):\n",
    "        super(Net, self).__init__()\n",
    "        self.fc1 = nn.Linear(28 * 28, 512)\n",
    "        self.fc2 = nn.Linear(512, 256)\n",
    "        self.fc3 = nn.Linear(256, 10)\n",
    "        self.dropout_prob = 0.5\n",
    "        self.batch_norm1 = nn.BatchNorm1d(512)\n",
    "        self.batch_norm2 = nn.BatchNorm1d(256)\n",
    "\n",
    "    def forward(self, x):\n",
    "        x = x.view(-1, 28 * 28)\n",
    "        x = self.fc1(x)\n",
    "        x = self.batch_norm1(x)\n",
    "        x = F.relu(x)\n",
    "        x = F.dropout(x, training = self.training, p = self.dropout_prob)\n",
    "        x = self.fc2(x)\n",
    "        x = self.batch_norm2(x)\n",
    "        x = F.relu(x)\n",
    "        x = F.dropout(x, training = self.training, p = self.dropout_prob)\n",
    "        x = self.fc3(x)\n",
    "        x = F.log_softmax(x, dim = 1)\n",
    "        return x"
   ]
  },
  {
   "cell_type": "code",
   "execution_count": 10,
   "metadata": {},
   "outputs": [
    {
     "name": "stdout",
     "output_type": "stream",
     "text": [
      "Net(\n",
      "  (fc1): Linear(in_features=784, out_features=512, bias=True)\n",
      "  (fc2): Linear(in_features=512, out_features=256, bias=True)\n",
      "  (fc3): Linear(in_features=256, out_features=10, bias=True)\n",
      "  (batch_norm1): BatchNorm1d(512, eps=1e-05, momentum=0.1, affine=True, track_running_stats=True)\n",
      "  (batch_norm2): BatchNorm1d(256, eps=1e-05, momentum=0.1, affine=True, track_running_stats=True)\n",
      ")\n"
     ]
    }
   ],
   "source": [
    "''' 7. Optimizer, Objective Function 설정하기 '''\n",
    "import torch.nn.init as init\n",
    "def weight_init(m):\n",
    "    if isinstance(m, nn.Linear):\n",
    "        init.kaiming_uniform_(m.weight.data)\n",
    "\n",
    "model = Net().to(DEVICE)\n",
    "model.apply(weight_init)\n",
    "optimizer = torch.optim.Adam(model.parameters(), lr = 0.01)\n",
    "criterion = nn.CrossEntropyLoss()\n",
    "\n",
    "print(model)"
   ]
  },
  {
   "cell_type": "code",
   "execution_count": 11,
   "metadata": {},
   "outputs": [],
   "source": [
    "''' 8. MLP 모델 학습을 진행하며 학습 데이터에 대한 모델 성능을 확인하는 함수 정의 '''\n",
    "def train(model, train_loader, optimizer, log_interval):\n",
    "    model.train()\n",
    "    for batch_idx, (image, label) in enumerate(train_loader):\n",
    "        image = image.to(DEVICE)\n",
    "        label = label.to(DEVICE)\n",
    "        optimizer.zero_grad()\n",
    "        output = model(image)\n",
    "        loss = criterion(output, label)\n",
    "        loss.backward()\n",
    "        optimizer.step()\n",
    "\n",
    "        if batch_idx % log_interval == 0:\n",
    "            print(\"Train Epoch: {} [{}/{} ({:.0f}%)]\\tTrain Loss: {:.6f}\".format(\n",
    "                epoch, batch_idx * len(image), \n",
    "                len(train_loader.dataset), 100. * batch_idx / len(train_loader), \n",
    "                loss.item()))"
   ]
  },
  {
   "cell_type": "code",
   "execution_count": 12,
   "metadata": {},
   "outputs": [],
   "source": [
    "''' 9. 학습되는 과정 속에서 검증 데이터에 대한 모델 성능을 확인하는 함수 정의 '''\n",
    "def evaluate(model, test_loader):\n",
    "    model.eval()\n",
    "    test_loss = 0\n",
    "    correct = 0\n",
    "\n",
    "    with torch.no_grad():\n",
    "        for image, label in test_loader:\n",
    "            image = image.to(DEVICE)\n",
    "            label = label.to(DEVICE)\n",
    "            output = model(image)\n",
    "            test_loss += criterion(output, label).item()\n",
    "            prediction = output.max(1, keepdim = True)[1]\n",
    "            correct += prediction.eq(label.view_as(prediction)).sum().item()\n",
    "    \n",
    "    test_loss /= (len(test_loader.dataset) / BATCH_SIZE)\n",
    "    test_accuracy = 100. * correct / len(test_loader.dataset)\n",
    "    return test_loss, test_accuracy"
   ]
  },
  {
   "cell_type": "code",
   "execution_count": 13,
   "metadata": {
    "scrolled": false
   },
   "outputs": [
    {
     "name": "stdout",
     "output_type": "stream",
     "text": [
      "Train Epoch: 1 [0/60000 (0%)]\tTrain Loss: 3.139114\n",
      "Train Epoch: 1 [6400/60000 (11%)]\tTrain Loss: 0.327335\n",
      "Train Epoch: 1 [12800/60000 (21%)]\tTrain Loss: 0.487634\n",
      "Train Epoch: 1 [19200/60000 (32%)]\tTrain Loss: 0.096294\n",
      "Train Epoch: 1 [25600/60000 (43%)]\tTrain Loss: 0.271720\n",
      "Train Epoch: 1 [32000/60000 (53%)]\tTrain Loss: 0.315437\n",
      "Train Epoch: 1 [38400/60000 (64%)]\tTrain Loss: 0.444940\n",
      "Train Epoch: 1 [44800/60000 (75%)]\tTrain Loss: 0.229398\n",
      "Train Epoch: 1 [51200/60000 (85%)]\tTrain Loss: 0.063530\n",
      "Train Epoch: 1 [57600/60000 (96%)]\tTrain Loss: 0.425345\n",
      "\n",
      "[EPOCH: 1], \tTest Loss: 0.1392, \tTest Accuracy: 95.78 % \n",
      "\n",
      "Train Epoch: 2 [0/60000 (0%)]\tTrain Loss: 0.130689\n",
      "Train Epoch: 2 [6400/60000 (11%)]\tTrain Loss: 0.238156\n",
      "Train Epoch: 2 [12800/60000 (21%)]\tTrain Loss: 0.282381\n",
      "Train Epoch: 2 [19200/60000 (32%)]\tTrain Loss: 0.267445\n",
      "Train Epoch: 2 [25600/60000 (43%)]\tTrain Loss: 0.132703\n",
      "Train Epoch: 2 [32000/60000 (53%)]\tTrain Loss: 0.212889\n",
      "Train Epoch: 2 [38400/60000 (64%)]\tTrain Loss: 0.223224\n",
      "Train Epoch: 2 [44800/60000 (75%)]\tTrain Loss: 0.216119\n",
      "Train Epoch: 2 [51200/60000 (85%)]\tTrain Loss: 0.102152\n",
      "Train Epoch: 2 [57600/60000 (96%)]\tTrain Loss: 0.092976\n",
      "\n",
      "[EPOCH: 2], \tTest Loss: 0.1033, \tTest Accuracy: 96.88 % \n",
      "\n",
      "Train Epoch: 3 [0/60000 (0%)]\tTrain Loss: 0.082568\n",
      "Train Epoch: 3 [6400/60000 (11%)]\tTrain Loss: 0.166533\n",
      "Train Epoch: 3 [12800/60000 (21%)]\tTrain Loss: 0.391452\n",
      "Train Epoch: 3 [19200/60000 (32%)]\tTrain Loss: 0.088492\n",
      "Train Epoch: 3 [25600/60000 (43%)]\tTrain Loss: 0.079766\n",
      "Train Epoch: 3 [32000/60000 (53%)]\tTrain Loss: 0.362378\n",
      "Train Epoch: 3 [38400/60000 (64%)]\tTrain Loss: 0.156898\n",
      "Train Epoch: 3 [44800/60000 (75%)]\tTrain Loss: 0.202865\n",
      "Train Epoch: 3 [51200/60000 (85%)]\tTrain Loss: 0.132699\n",
      "Train Epoch: 3 [57600/60000 (96%)]\tTrain Loss: 0.174987\n",
      "\n",
      "[EPOCH: 3], \tTest Loss: 0.0934, \tTest Accuracy: 97.01 % \n",
      "\n",
      "Train Epoch: 4 [0/60000 (0%)]\tTrain Loss: 0.423958\n",
      "Train Epoch: 4 [6400/60000 (11%)]\tTrain Loss: 0.782697\n",
      "Train Epoch: 4 [12800/60000 (21%)]\tTrain Loss: 0.135523\n",
      "Train Epoch: 4 [19200/60000 (32%)]\tTrain Loss: 0.206448\n",
      "Train Epoch: 4 [25600/60000 (43%)]\tTrain Loss: 0.337845\n",
      "Train Epoch: 4 [32000/60000 (53%)]\tTrain Loss: 0.078179\n",
      "Train Epoch: 4 [38400/60000 (64%)]\tTrain Loss: 0.039909\n",
      "Train Epoch: 4 [44800/60000 (75%)]\tTrain Loss: 0.109417\n",
      "Train Epoch: 4 [51200/60000 (85%)]\tTrain Loss: 0.108537\n",
      "Train Epoch: 4 [57600/60000 (96%)]\tTrain Loss: 0.096634\n",
      "\n",
      "[EPOCH: 4], \tTest Loss: 0.0891, \tTest Accuracy: 97.26 % \n",
      "\n",
      "Train Epoch: 5 [0/60000 (0%)]\tTrain Loss: 0.122919\n",
      "Train Epoch: 5 [6400/60000 (11%)]\tTrain Loss: 0.267197\n",
      "Train Epoch: 5 [12800/60000 (21%)]\tTrain Loss: 0.130671\n",
      "Train Epoch: 5 [19200/60000 (32%)]\tTrain Loss: 0.227460\n",
      "Train Epoch: 5 [25600/60000 (43%)]\tTrain Loss: 0.356677\n",
      "Train Epoch: 5 [32000/60000 (53%)]\tTrain Loss: 0.585642\n",
      "Train Epoch: 5 [38400/60000 (64%)]\tTrain Loss: 0.271243\n",
      "Train Epoch: 5 [44800/60000 (75%)]\tTrain Loss: 0.569545\n",
      "Train Epoch: 5 [51200/60000 (85%)]\tTrain Loss: 0.131935\n",
      "Train Epoch: 5 [57600/60000 (96%)]\tTrain Loss: 0.589212\n",
      "\n",
      "[EPOCH: 5], \tTest Loss: 0.0872, \tTest Accuracy: 97.23 % \n",
      "\n",
      "Train Epoch: 6 [0/60000 (0%)]\tTrain Loss: 0.236432\n",
      "Train Epoch: 6 [6400/60000 (11%)]\tTrain Loss: 0.157131\n",
      "Train Epoch: 6 [12800/60000 (21%)]\tTrain Loss: 0.055736\n",
      "Train Epoch: 6 [19200/60000 (32%)]\tTrain Loss: 0.109698\n",
      "Train Epoch: 6 [25600/60000 (43%)]\tTrain Loss: 0.113529\n",
      "Train Epoch: 6 [32000/60000 (53%)]\tTrain Loss: 0.245963\n",
      "Train Epoch: 6 [38400/60000 (64%)]\tTrain Loss: 0.062553\n",
      "Train Epoch: 6 [44800/60000 (75%)]\tTrain Loss: 0.129390\n",
      "Train Epoch: 6 [51200/60000 (85%)]\tTrain Loss: 0.217385\n",
      "Train Epoch: 6 [57600/60000 (96%)]\tTrain Loss: 0.127205\n",
      "\n",
      "[EPOCH: 6], \tTest Loss: 0.0708, \tTest Accuracy: 97.67 % \n",
      "\n",
      "Train Epoch: 7 [0/60000 (0%)]\tTrain Loss: 0.168869\n",
      "Train Epoch: 7 [6400/60000 (11%)]\tTrain Loss: 0.018268\n",
      "Train Epoch: 7 [12800/60000 (21%)]\tTrain Loss: 0.205438\n",
      "Train Epoch: 7 [19200/60000 (32%)]\tTrain Loss: 0.296998\n",
      "Train Epoch: 7 [25600/60000 (43%)]\tTrain Loss: 0.093989\n",
      "Train Epoch: 7 [32000/60000 (53%)]\tTrain Loss: 0.244159\n",
      "Train Epoch: 7 [38400/60000 (64%)]\tTrain Loss: 0.026213\n",
      "Train Epoch: 7 [44800/60000 (75%)]\tTrain Loss: 0.017695\n",
      "Train Epoch: 7 [51200/60000 (85%)]\tTrain Loss: 0.245915\n",
      "Train Epoch: 7 [57600/60000 (96%)]\tTrain Loss: 0.065910\n",
      "\n",
      "[EPOCH: 7], \tTest Loss: 0.0750, \tTest Accuracy: 97.87 % \n",
      "\n",
      "Train Epoch: 8 [0/60000 (0%)]\tTrain Loss: 0.037891\n",
      "Train Epoch: 8 [6400/60000 (11%)]\tTrain Loss: 0.173444\n",
      "Train Epoch: 8 [12800/60000 (21%)]\tTrain Loss: 0.657488\n",
      "Train Epoch: 8 [19200/60000 (32%)]\tTrain Loss: 0.110221\n",
      "Train Epoch: 8 [25600/60000 (43%)]\tTrain Loss: 0.114579\n",
      "Train Epoch: 8 [32000/60000 (53%)]\tTrain Loss: 0.214854\n",
      "Train Epoch: 8 [38400/60000 (64%)]\tTrain Loss: 0.176479\n",
      "Train Epoch: 8 [44800/60000 (75%)]\tTrain Loss: 0.266097\n",
      "Train Epoch: 8 [51200/60000 (85%)]\tTrain Loss: 0.191569\n",
      "Train Epoch: 8 [57600/60000 (96%)]\tTrain Loss: 0.106526\n",
      "\n",
      "[EPOCH: 8], \tTest Loss: 0.0675, \tTest Accuracy: 97.78 % \n",
      "\n",
      "Train Epoch: 9 [0/60000 (0%)]\tTrain Loss: 0.263594\n",
      "Train Epoch: 9 [6400/60000 (11%)]\tTrain Loss: 0.096864\n",
      "Train Epoch: 9 [12800/60000 (21%)]\tTrain Loss: 0.156184\n",
      "Train Epoch: 9 [19200/60000 (32%)]\tTrain Loss: 0.158747\n",
      "Train Epoch: 9 [25600/60000 (43%)]\tTrain Loss: 0.189435\n",
      "Train Epoch: 9 [32000/60000 (53%)]\tTrain Loss: 0.032973\n",
      "Train Epoch: 9 [38400/60000 (64%)]\tTrain Loss: 0.150111\n",
      "Train Epoch: 9 [44800/60000 (75%)]\tTrain Loss: 0.088237\n",
      "Train Epoch: 9 [51200/60000 (85%)]\tTrain Loss: 0.017809\n",
      "Train Epoch: 9 [57600/60000 (96%)]\tTrain Loss: 0.104216\n",
      "\n",
      "[EPOCH: 9], \tTest Loss: 0.0681, \tTest Accuracy: 98.03 % \n",
      "\n",
      "Train Epoch: 10 [0/60000 (0%)]\tTrain Loss: 0.023133\n",
      "Train Epoch: 10 [6400/60000 (11%)]\tTrain Loss: 0.120121\n",
      "Train Epoch: 10 [12800/60000 (21%)]\tTrain Loss: 0.104642\n",
      "Train Epoch: 10 [19200/60000 (32%)]\tTrain Loss: 0.025456\n",
      "Train Epoch: 10 [25600/60000 (43%)]\tTrain Loss: 0.077835\n",
      "Train Epoch: 10 [32000/60000 (53%)]\tTrain Loss: 0.143424\n",
      "Train Epoch: 10 [38400/60000 (64%)]\tTrain Loss: 0.254119\n",
      "Train Epoch: 10 [44800/60000 (75%)]\tTrain Loss: 0.178311\n",
      "Train Epoch: 10 [51200/60000 (85%)]\tTrain Loss: 0.055804\n",
      "Train Epoch: 10 [57600/60000 (96%)]\tTrain Loss: 0.062006\n",
      "\n",
      "[EPOCH: 10], \tTest Loss: 0.0628, \tTest Accuracy: 98.14 % \n",
      "\n"
     ]
    }
   ],
   "source": [
    "''' 10. MLP 학습 실행하며 Train, Test set의 Loss 및 Test set Accuracy 확인하기 '''\n",
    "for epoch in range(1, EPOCHS + 1):\n",
    "    train(model, train_loader, optimizer, log_interval = 200)\n",
    "    test_loss, test_accuracy = evaluate(model, test_loader)\n",
    "    print(\"\\n[EPOCH: {}], \\tTest Loss: {:.4f}, \\tTest Accuracy: {:.2f} % \\n\".format(\n",
    "        epoch, test_loss, test_accuracy))"
   ]
  }
 ],
 "metadata": {
  "kernelspec": {
   "display_name": "Python 3",
   "language": "python",
   "name": "python3"
  },
  "language_info": {
   "codemirror_mode": {
    "name": "ipython",
    "version": 3
   },
   "file_extension": ".py",
   "mimetype": "text/x-python",
   "name": "python",
   "nbconvert_exporter": "python",
   "pygments_lexer": "ipython3",
   "version": "3.7.6"
  }
 },
 "nbformat": 4,
 "nbformat_minor": 4
}
