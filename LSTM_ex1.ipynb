{
  "nbformat": 4,
  "nbformat_minor": 0,
  "metadata": {
    "colab": {
      "name": "LSTM_ex1.ipynb",
      "provenance": []
    },
    "kernelspec": {
      "name": "python3",
      "display_name": "Python 3"
    },
    "language_info": {
      "name": "python"
    },
    "accelerator": "GPU"
  },
  "cells": [
    {
      "cell_type": "code",
      "source": [
        "from google.colab import drive\n",
        "drive.mount('/gdrive')"
      ],
      "metadata": {
        "colab": {
          "base_uri": "https://localhost:8080/"
        },
        "id": "Jo5p4owxbT_q",
        "outputId": "c9104d82-7ee3-4d53-e9c0-512dac55189d"
      },
      "execution_count": 1,
      "outputs": [
        {
          "output_type": "stream",
          "name": "stdout",
          "text": [
            "Mounted at /gdrive\n"
          ]
        }
      ]
    },
    {
      "cell_type": "code",
      "source": [
        "\n",
        "\n",
        "\n",
        "import pandas as pd\n",
        "from sklearn.model_selection import train_test_split\n",
        "\n",
        "raw_data_path = '/content/drive/MyDrive/news.csv'\n",
        "destination_folder = '/content/drive/MyDrive'\n",
        "\n",
        "train_test_ratio = 0.10\n",
        "train_valid_ratio = 0.80\n",
        "\n",
        "first_n_words = 200\n",
        "\n",
        "def trim_string(x):\n",
        "    x = x.split(maxsplit=first_n_words)\n",
        "    x = ' '.join(x[:first_n_words])\n",
        "    return x\n",
        "\n"
      ],
      "metadata": {
        "id": "aFOm_SPDbmxf"
      },
      "execution_count": 2,
      "outputs": []
    },
    {
      "cell_type": "code",
      "source": [
        "df_raw = pd.read_csv(raw_data_path)\n",
        "\n",
        "# column 준비\n",
        "df_raw['label'] = (df_raw['label'] == 'FAKE').astype('int')\n",
        "df_raw['titletext'] = df_raw['title'] + '.' + df_raw['text']\n",
        "df_raw = df_raw.reindex(columns = ['label', 'title','text','titletext'])\n",
        "# => ['label', 'title','text','titletext'] 순으로 데이터를 정렬하고 인덱스를 다시 매김\n",
        "\n",
        "# 비어있는 텍스트가 존재하는 열 제거\n",
        "df_raw.drop(df_raw[df_raw.text.str.len()<5].index, inplace = True)\n",
        "\n",
        "# 텍스트를 자르고 titletext를 first_n_words까지 자름\n",
        "df_raw['text'] = df_raw['text'].apply(trim_string)\n",
        "df_raw['titletext'] = df_raw['titletext'].apply(trim_string)\n",
        "\n",
        "# label을 기준으로 데이터를 나눈다\n",
        "df_real = df_raw[df_raw['label'] == 0]\n",
        "df_fake = df_raw[df_raw['label'] == 1]\n",
        "\n",
        "# 훈련/테스트 분할\n",
        "df_real_full_train, df_real_test = train_test_split(df_real, train_size = train_test_ratio, random_state = 1)\n",
        "df_fake_full_train, df_fake_test = train_test_split(df_fake, train_size = train_test_ratio, random_state = 1)\n",
        "\n",
        "# 훈련/검증 분할\n",
        "df_real_train, df_real_valid = train_test_split(df_real_full_train, train_size = train_valid_ratio, random_state = 1)\n",
        "df_fake_train, df_fake_valid = train_test_split(df_fake_full_train, train_size = train_valid_ratio, random_state = 1)\n",
        "\n",
        "# 분할된 데이터를 연결한다. ( real + fake / 행 방향 )\n",
        "df_train = pd.concat([df_real_train, df_fake_train], ignore_index=True, sort=False)\n",
        "df_valid = pd.concat([df_real_valid, df_fake_valid], ignore_index=True, sort=False)\n",
        "df_test = pd.concat([df_real_test, df_fake_test], ignore_index=True, sort=False)\n",
        "\n",
        "# 전처리된 데이터셋 저장\n",
        "df_train.to_csv(destination_folder + '/train.csv', index=False)\n",
        "df_valid.to_csv(destination_folder + '/valid.csv', index=False)\n",
        "df_test.to_csv(destination_folder + '/test.csv', index=False)"
      ],
      "metadata": {
        "id": "4gL_twKYbzKK"
      },
      "execution_count": 3,
      "outputs": []
    },
    {
      "cell_type": "code",
      "source": [
        "import matplotlib.pyplot as plt\n",
        "import pandas as pd\n",
        "import torch\n",
        "# Preliminaries\n",
        "from torchtext.legacy.data import Field, TabularDataset, BucketIterator\n",
        "# Models\n",
        "import torch.nn as nn\n",
        "from torch.nn.utils.rnn import pack_padded_sequence, pad_packed_sequence\n",
        "device = torch.device(\"cuda\")\n",
        "# Training\n",
        "import torch.optim as optim\n",
        "# Evaluation\n",
        "from sklearn.metrics import accuracy_score, classification_report, confusion_matrix\n",
        "import seaborn as sns"
      ],
      "metadata": {
        "id": "_Yi2CeCtbzHT"
      },
      "execution_count": 4,
      "outputs": []
    },
    {
      "cell_type": "code",
      "source": [
        "label_field = Field(sequential = False, # 순서가 있는 데이터일경우 True / Label은 순서가 필요 없으므로 False\n",
        "                    use_vocab = False, # 단어장(vocab) 객체 사용 여부 / 텍스트 데이터에만 True\n",
        "                    batch_first = True, # 배치를 우선시\n",
        "                    dtype = torch.float) \n",
        "text_field = Field(tokenize = 'spacy', \n",
        "                   lower = True, # 소문자 전환 여부 (엉어)\n",
        "                   include_lengths = True, # 패딩된 미니 배치의 튜플과 각 샘플의 길이가 포함 된 목록을 반환 or 패딩된 미니 배치만 반환\n",
        "                   batch_first = True)\n",
        "fields = [('label', label_field), ('title', text_field), ('text', text_field), ('titletext', text_field)]\n",
        "\n",
        "# Tabular Dataset\n",
        "train, valid, test = TabularDataset.splits(path=destination_folder, train='train.csv', validation='valid.csv', test='test.csv',\n",
        "                                           format='CSV', fields=fields, skip_header=True)\n",
        "# Iterators\n",
        "# BucketIterator - batch learning을 함. 비슷한 길이를 가진 텍스트를 한 batch에 할당하여 패딩을 최소화하는 기능을 가짐.\n",
        "train_iter = BucketIterator(train, batch_size=32, sort_key=lambda x: len(x.text),\n",
        "                            device=device, sort=True, sort_within_batch=True)\n",
        "valid_iter = BucketIterator(valid, batch_size=32, sort_key=lambda x: len(x.text),\n",
        "                            device=device, sort=True, sort_within_batch=True)\n",
        "test_iter = BucketIterator(test, batch_size=32, sort_key=lambda x: len(x.text),\n",
        "                            device=device, sort=True, sort_within_batch=True)\n",
        "\n",
        "# Vocabulary\n",
        "\n",
        "text_field.build_vocab(train, min_freq=3)"
      ],
      "metadata": {
        "id": "NCzv-4zobzEB"
      },
      "execution_count": 5,
      "outputs": []
    },
    {
      "cell_type": "code",
      "source": [
        "class LSTM(nn.Module): # nn.Module 상속\n",
        "\n",
        "    def __init__(self, dimension = 128):\n",
        "        super(LSTM, self).__init__()\n",
        "\n",
        "        self.embedding = nn.Embedding(len(text_field.vocab), 300)\n",
        "        self.dimension = dimension\n",
        "        self.lstm = nn.LSTM(input_size=300,\n",
        "                            hidden_size=dimension,\n",
        "                            num_layers=1,\n",
        "                            batch_first=True,\n",
        "                            bidirectional=True) # 양방향\n",
        "        self.drop = nn.Dropout(p=0.5)\n",
        "        self.fc = nn.Linear(2*dimension, 1) #full connect\n",
        "\n",
        "    def forward(self, text, text_len):\n",
        "        text_emb = self.embedding(text)\n",
        "        # pack_padded_sequence : padding된 문장을 padding 기준으로 sorting 하는 역할\n",
        "        # 참고할 글 : https://simonjisu.github.io/nlp/2018/07/05/packedsequence.html\n",
        "        packed_input = pack_padded_sequence(text_emb, \n",
        "                                            text_len.cpu(), \n",
        "                                            batch_first=True, \n",
        "                                            enforce_sorted=False)\n",
        "        packed_output, _ = self.lstm(packed_input)\n",
        "        output, _ = pad_packed_sequence(packed_output, batch_first = True)\n",
        "\n",
        "        out_forward = output[range(len(output)), text_len - 1, :self.dimension]\n",
        "        out_reverse = output[:, 0, self.dimension:]\n",
        "        out_reduced = torch.cat((out_forward, out_reverse), 1) #[range(len(output)), text_len -1 + 0 , self.dimension]\n",
        "        text_fea = self.drop(out_reduced)\n",
        "\n",
        "        text_fea = self.fc(text_fea)\n",
        "        text_fea = torch.squeeze(text_fea, 1)\n",
        "        text_out = torch.sigmoid(text_fea)\n",
        "\n",
        "        return text_out"
      ],
      "metadata": {
        "id": "wRdXY4SPbzBi"
      },
      "execution_count": 6,
      "outputs": []
    },
    {
      "cell_type": "code",
      "source": [
        "# 저장 / 불러오기 함수\n",
        "def save_checkpoint(save_path, model, optimizer, valid_loss):\n",
        "\n",
        "    if save_path == None:\n",
        "        return\n",
        "\n",
        "    state_dict = {'model_state_dict': model.state_dict(),\n",
        "                  'optimizer_state_dict': optimizer.state_dict(),\n",
        "                  'valid_loss': valid_loss}\n",
        "\n",
        "    torch.save(state_dict, save_path)\n",
        "    print(f'Model saved to ==> {save_path}')\n",
        "\n",
        "def load_checkpoint(load_path, model, optimizer):\n",
        "\n",
        "    if load_path==None:\n",
        "        return\n",
        "\n",
        "    state_dict = torch.load(load_path, map_location=device)\n",
        "    print(f'Model loaded from <== {load_path}')\n",
        "\n",
        "    model.load_state_dict(state_dict['model_state_dict'])\n",
        "    optimizer.load_state_dict(state_dict['optimizer_state_dict'])\n",
        "\n",
        "    return state_dict['valid_loss']\n",
        "\n",
        "def save_metrics(save_path, train_loss_list, valid_loss_list, global_steps_list):\n",
        "\n",
        "    if save_path == None:\n",
        "        return\n",
        "\n",
        "    state_dict = {'train_loss_list': train_loss_list,\n",
        "                  'valid_loss_list': valid_loss_list,\n",
        "                  'global_steps_list': global_steps_list}\n",
        "\n",
        "    torch.save(state_dict, save_path)\n",
        "    print(f'Model saved to ==> {save_path}')\n",
        "\n",
        "\n",
        "def load_metrics(load_path):\n",
        "\n",
        "    if load_path==None:\n",
        "        return\n",
        "\n",
        "    state_dict = torch.load(load_path, map_location=device)\n",
        "    print(f'Model loaded from <== {load_path}')\n",
        "\n",
        "    return state_dict['train_loss_list'], state_dict['valid_loss_list'], state_dict['global_steps_list']"
      ],
      "metadata": {
        "id": "vKElXTzLiMyr"
      },
      "execution_count": 15,
      "outputs": []
    },
    {
      "cell_type": "code",
      "source": [
        "def train(model,\n",
        "          optimizer,\n",
        "          criterion = nn.BCELoss(),\n",
        "          train_loader = train_iter,\n",
        "          valid_loader = valid_iter,\n",
        "          num_epochs = 5,\n",
        "          eval_every = len(train_iter) // 2,\n",
        "          file_path = destination_folder,\n",
        "          best_valid_loss = float(\"Inf\")):\n",
        "\n",
        "    # running values 초기화\n",
        "    running_loss = 0.0\n",
        "    valid_running_loss = 0.0\n",
        "    global_step = 0\n",
        "    train_loss_list = []\n",
        "    valid_loss_list = []\n",
        "    global_steps_list = []\n",
        "\n",
        "    # training loop\n",
        "    model.train()\n",
        "    for epoch in range(num_epochs) :\n",
        "        for (labels, (title, title_len), (text, text_len), (titletext, titletext_len)), _ in train_loader:\n",
        "            labels = labels.to(device)\n",
        "            titletext = titletext.to(device)\n",
        "            titletext_len = titletext_len.to(device)\n",
        "            output = model(titletext, titletext_len)\n",
        "\n",
        "            loss = criterion(output, labels)\n",
        "            optimizer.zero_grad()\n",
        "            loss.backward()\n",
        "            optimizer.step()\n",
        "\n",
        "            # update running values\n",
        "            running_loss += loss.item()\n",
        "            global_step += 1\n",
        "\n",
        "            # evaluation step\n",
        "            if global_step % eval_every == 0:\n",
        "                model.eval()\n",
        "                with torch.no_grad():\n",
        "                    # validation loop\n",
        "                    for (labels, (title, title_len), (text, text_len), (titletext, titletext_len)), _ in valid_loader:\n",
        "                        labels = labels.to(device)\n",
        "                        titletext = titletext.to(device)\n",
        "                        titletext_len = titletext_len.to(device)\n",
        "                        output = model(titletext, titletext_len)\n",
        "\n",
        "                        loss = criterion(output, labels)\n",
        "                        valid_running_loss += loss.item()\n",
        "\n",
        "                # evaluation\n",
        "                average_train_loss = running_loss / eval_every\n",
        "                average_valid_loss = valid_running_loss / len(valid_loader)\n",
        "                train_loss_list.append(average_train_loss)\n",
        "                valid_loss_list.append(average_valid_loss)\n",
        "                global_steps_list.append(global_step)\n",
        "\n",
        "                # resetting running values\n",
        "                running_loss = 0.0                \n",
        "                valid_running_loss = 0.0\n",
        "                model.train()\n",
        "\n",
        "                # print progress\n",
        "                print('Epoch [{}/{}], Step [{}/{}], Train Loss: {:.4f}, Valid Loss: {:.4f}'\n",
        "                      .format(epoch+1, num_epochs, global_step, num_epochs*len(train_loader),\n",
        "                              average_train_loss, average_valid_loss))\n",
        "\n",
        "                # checkpoint\n",
        "                if best_valid_loss > average_valid_loss:\n",
        "                    best_valid_loss = average_valid_loss\n",
        "                    save_checkpoint(file_path + '/model.pt', model, optimizer, best_valid_loss)\n",
        "                    save_metrics(file_path + '/metrics.pt', train_loss_list, valid_loss_list, global_steps_list)\n",
        "\n",
        "    save_metrics(file_path + '/metrics.pt', train_loss_list, valid_loss_list, global_steps_list)\n",
        "    print('Finished Training!')"
      ],
      "metadata": {
        "id": "ObEgwtfQcccG"
      },
      "execution_count": 16,
      "outputs": []
    },
    {
      "cell_type": "code",
      "source": [
        "model = LSTM().to(device)\n",
        "optimizer = optim.Adam(model.parameters(), lr=0.001)\n",
        "\n",
        "train(model=model, optimizer=optimizer, num_epochs=10)"
      ],
      "metadata": {
        "colab": {
          "base_uri": "https://localhost:8080/"
        },
        "id": "9gWPsUsece5Y",
        "outputId": "fa9edeab-9e82-4ca2-cc78-03d4d6def729"
      },
      "execution_count": 17,
      "outputs": [
        {
          "output_type": "stream",
          "name": "stdout",
          "text": [
            "Epoch [1/10], Step [8/160], Train Loss: 0.6990, Valid Loss: 0.6755\n",
            "Model saved to ==> /content/drive/MyDrive/model.pt\n",
            "Model saved to ==> /content/drive/MyDrive/metrics.pt\n",
            "Epoch [1/10], Step [16/160], Train Loss: 0.6938, Valid Loss: 0.6606\n",
            "Model saved to ==> /content/drive/MyDrive/model.pt\n",
            "Model saved to ==> /content/drive/MyDrive/metrics.pt\n",
            "Epoch [2/10], Step [24/160], Train Loss: 0.5682, Valid Loss: 0.6484\n",
            "Model saved to ==> /content/drive/MyDrive/model.pt\n",
            "Model saved to ==> /content/drive/MyDrive/metrics.pt\n",
            "Epoch [2/10], Step [32/160], Train Loss: 0.5969, Valid Loss: 0.6341\n",
            "Model saved to ==> /content/drive/MyDrive/model.pt\n",
            "Model saved to ==> /content/drive/MyDrive/metrics.pt\n",
            "Epoch [3/10], Step [40/160], Train Loss: 0.4826, Valid Loss: 0.6228\n",
            "Model saved to ==> /content/drive/MyDrive/model.pt\n",
            "Model saved to ==> /content/drive/MyDrive/metrics.pt\n",
            "Epoch [3/10], Step [48/160], Train Loss: 0.4923, Valid Loss: 0.6052\n",
            "Model saved to ==> /content/drive/MyDrive/model.pt\n",
            "Model saved to ==> /content/drive/MyDrive/metrics.pt\n",
            "Epoch [4/10], Step [56/160], Train Loss: 0.3639, Valid Loss: 0.5911\n",
            "Model saved to ==> /content/drive/MyDrive/model.pt\n",
            "Model saved to ==> /content/drive/MyDrive/metrics.pt\n",
            "Epoch [4/10], Step [64/160], Train Loss: 0.3506, Valid Loss: 0.5491\n",
            "Model saved to ==> /content/drive/MyDrive/model.pt\n",
            "Model saved to ==> /content/drive/MyDrive/metrics.pt\n",
            "Epoch [5/10], Step [72/160], Train Loss: 0.2037, Valid Loss: 0.5513\n",
            "Epoch [5/10], Step [80/160], Train Loss: 0.1971, Valid Loss: 0.5013\n",
            "Model saved to ==> /content/drive/MyDrive/model.pt\n",
            "Model saved to ==> /content/drive/MyDrive/metrics.pt\n",
            "Epoch [6/10], Step [88/160], Train Loss: 0.0950, Valid Loss: 0.5775\n",
            "Epoch [6/10], Step [96/160], Train Loss: 0.0735, Valid Loss: 0.4041\n",
            "Model saved to ==> /content/drive/MyDrive/model.pt\n",
            "Model saved to ==> /content/drive/MyDrive/metrics.pt\n",
            "Epoch [7/10], Step [104/160], Train Loss: 0.0356, Valid Loss: 0.4644\n",
            "Epoch [7/10], Step [112/160], Train Loss: 0.0610, Valid Loss: 0.4987\n",
            "Epoch [8/10], Step [120/160], Train Loss: 0.0560, Valid Loss: 0.6041\n",
            "Epoch [8/10], Step [128/160], Train Loss: 0.0488, Valid Loss: 0.4680\n",
            "Epoch [9/10], Step [136/160], Train Loss: 0.0430, Valid Loss: 0.4893\n",
            "Epoch [9/10], Step [144/160], Train Loss: 0.0192, Valid Loss: 0.6540\n",
            "Epoch [10/10], Step [152/160], Train Loss: 0.0188, Valid Loss: 0.5264\n",
            "Epoch [10/10], Step [160/160], Train Loss: 0.0099, Valid Loss: 0.5189\n",
            "Model saved to ==> /content/drive/MyDrive/metrics.pt\n",
            "Finished Training!\n"
          ]
        }
      ]
    },
    {
      "cell_type": "code",
      "source": [
        "train_loss_list, valid_loss_list, global_steps_list = load_metrics(destination_folder + '/metrics.pt')\n",
        "plt.plot(global_steps_list, train_loss_list, label='Train')\n",
        "plt.plot(global_steps_list, valid_loss_list, label='Valid')\n",
        "plt.xlabel('Global Steps')\n",
        "plt.ylabel('Loss')\n",
        "plt.legend()\n",
        "plt.show() "
      ],
      "metadata": {
        "colab": {
          "base_uri": "https://localhost:8080/",
          "height": 297
        },
        "id": "NCXySF-hiX2Z",
        "outputId": "7f3745c3-a9dc-4f6f-f59f-22fe1444b815"
      },
      "execution_count": 18,
      "outputs": [
        {
          "output_type": "stream",
          "name": "stdout",
          "text": [
            "Model loaded from <== /content/drive/MyDrive/metrics.pt\n"
          ]
        },
        {
          "output_type": "display_data",
          "data": {
            "image/png": "[encoded data removed]",
            "text/plain": [
              "<Figure size 432x288 with 1 Axes>"
            ]
          },
          "metadata": {
            "needs_background": "light"
          }
        }
      ]
    },
    {
      "cell_type": "code",
      "source": [
        "def evaluate(model, test_loader, version='title', threshold=0.5):\n",
        "    y_pred = []\n",
        "    y_true = []\n",
        "\n",
        "    model.eval()\n",
        "    with torch.no_grad():\n",
        "        for (labels, (title, title_len), (text, text_len), (titletext, titletext_len)), _ in test_loader:           \n",
        "            labels = labels.to(device)\n",
        "            titletext = titletext.to(device)\n",
        "            titletext_len = titletext_len.to(device)\n",
        "            output = model(titletext, titletext_len)\n",
        "\n",
        "            output = (output > threshold).int()\n",
        "            y_pred.extend(output.tolist())\n",
        "            y_true.extend(labels.tolist())\n",
        "\n",
        "    print('Classification Report:')\n",
        "    print(classification_report(y_true, y_pred, labels=[1,0], digits=4))\n",
        "\n",
        "    cm = confusion_matrix(y_true, y_pred, labels=[1,0])\n",
        "    ax= plt.subplot()\n",
        "    sns.heatmap(cm, annot=True, ax = ax, cmap='Blues', fmt=\"d\")\n",
        "\n",
        "    ax.set_title('Confusion Matrix')\n",
        "\n",
        "    ax.set_xlabel('Predicted Labels')\n",
        "    ax.set_ylabel('True Labels')\n",
        "\n",
        "    ax.xaxis.set_ticklabels(['FAKE', 'REAL'])\n",
        "    ax.yaxis.set_ticklabels(['FAKE', 'REAL'])\n",
        "\n",
        "best_model = LSTM().to(device)\n",
        "optimizer = optim.Adam(best_model.parameters(), lr=0.001)\n",
        "\n",
        "load_checkpoint(destination_folder + '/model.pt', best_model, optimizer)\n",
        "evaluate(best_model, test_iter)"
      ],
      "metadata": {
        "colab": {
          "base_uri": "https://localhost:8080/",
          "height": 494
        },
        "id": "SVycrQyLcnsX",
        "outputId": "920cac42-8a81-44eb-ed80-6349bf8d8469"
      },
      "execution_count": 19,
      "outputs": [
        {
          "output_type": "stream",
          "name": "stdout",
          "text": [
            "Model loaded from <== /content/drive/MyDrive/model.pt\n",
            "Classification Report:\n",
            "              precision    recall  f1-score   support\n",
            "\n",
            "           1     0.7890    0.7834    0.7862      2816\n",
            "           0     0.7878    0.7933    0.7905      2854\n",
            "\n",
            "    accuracy                         0.7884      5670\n",
            "   macro avg     0.7884    0.7883    0.7883      5670\n",
            "weighted avg     0.7884    0.7884    0.7884      5670\n",
            "\n"
          ]
        },
        {
          "output_type": "display_data",
          "data": {
            "image/png": "[encoded data removed]",
            "text/plain": [
              "<Figure size 432x288 with 2 Axes>"
            ]
          },
          "metadata": {
            "needs_background": "light"
          }
        }
      ]
    }
  ]
}