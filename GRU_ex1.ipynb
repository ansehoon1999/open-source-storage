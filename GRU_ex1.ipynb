{
 "cells": [
  {
   "cell_type": "code",
   "execution_count": 1,
   "metadata": {
    "id": "73voP5VTfBuv"
   },
   "outputs": [
    {
     "name": "stdout",
     "output_type": "stream",
     "text": [
      "0.11.1\n"
     ]
    }
   ],
   "source": [
    "import os\n",
    "import torch\n",
    "import torch.nn as nn\n",
    "import torch.nn.functional as F\n",
    "from torchtext.legacy import data, datasets \n",
    "import torchtext\n",
    "\n",
    "print(torchtext.__version__)"
   ]
  },
  {
   "cell_type": "code",
   "execution_count": null,
   "metadata": {
    "colab": {
     "base_uri": "https://localhost:8080/"
    },
    "id": "qdpgzUt2fBuw",
    "outputId": "315b28c4-e5b2-48d2-e820-36b219510f6e"
   },
   "outputs": [
    {
     "name": "stdout",
     "output_type": "stream",
     "text": [
      "다음 기기로 학습합니다: cuda\n"
     ]
    }
   ],
   "source": [
    "# 하이퍼파라미터 정의\n",
    "BATCH_SIZE = 64\n",
    "lr = 0.001\n",
    "EPOCHS = 10\n",
    "USE_CUDA = torch.cuda.is_available()\n",
    "DEVICE = torch.device(\"cuda\" if USE_CUDA else \"cpu\")#GPU, CPU\n",
    "print(\"다음 기기로 학습합니다:\", DEVICE)"
   ]
  },
  {
   "cell_type": "code",
   "execution_count": null,
   "metadata": {
    "colab": {
     "base_uri": "https://localhost:8080/",
     "height": 54
    },
    "id": "wqfwglArfBuy",
    "outputId": "0a334e62-839e-4939-fa3f-45bd8d2a4692"
   },
   "outputs": [
    {
     "name": "stdout",
     "output_type": "stream",
     "text": [
      "데이터 로딩중...\n"
     ]
    },
    {
     "data": {
      "application/vnd.google.colaboratory.intrinsic+json": {
       "type": "string"
      },
      "text/plain": [
       "'\\n# Test #\\nfor batch in train_iter:\\n    print(batch.text)\\n    print(batch.label)\\n    break\\n'"
      ]
     },
     "execution_count": 4,
     "metadata": {},
     "output_type": "execute_result"
    }
   ],
   "source": [
    "# 데이터 로딩하기\n",
    "print(\"데이터 로딩중...\")\n",
    "\n",
    "# data.Field 설명 #\n",
    "# sequential인자 : TEXT는 Sequential 데이터라 True, Lable은 비Sequential이라 False로 설정\n",
    "# batch_first : Batch를 우선시 하여, Tensor 크기를 (BATCH_SIZE, 문장의 최대 길이)로 설정\n",
    "# lower : 소문자 전환 인자\n",
    "# # # # # # # # # #\n",
    "TEXT = data.Field(sequential=True, batch_first=True, lower=True)\n",
    "LABEL = data.Field(sequential=False, batch_first=True)\n",
    "\n",
    "#IMDB 데이터 로딩\n",
    "trainset, testset = datasets.IMDB.splits(TEXT, LABEL)\n",
    "\n",
    "# data.Field.build_vocab() 라이브러리\n",
    "# 문장 내 단어와 Integer index 를 매칭시키는 단어장(vocab)을 생성 == 워드 임베딩을 위한 Vocab 생성\n",
    "# <UNK> = 0, <PAD> = 1 토큰도 추가.\n",
    "# min_freq : 최소 5번 이상 등장한 단어들만 사전에 담겠다는 것. \n",
    "# 5번 미만으로 등장하는 단어는 UNK라는 토큰으로 대체\n",
    "TEXT.build_vocab(trainset, min_freq=5)# TEXT 데이터를 기반으로 Vocab 생성\n",
    "LABEL.build_vocab(trainset)# LABEL 데이터를 기반으로 Vocab 생성\n",
    "\n",
    "\n",
    "# 학습용 데이터를 학습셋 80% 검증셋 20% 로 나누기\n",
    "trainset, valset = trainset.split(split_ratio=0.8)\n",
    "# 매 배치마다 비슷한 길이에 맞춰 줄 수 있도록 iterator 정의\n",
    "train_iter, val_iter, test_iter = data.BucketIterator.splits(\n",
    "        (trainset, valset, testset), batch_size=BATCH_SIZE,\n",
    "        shuffle=True, repeat=False)\n",
    "\n",
    "\n",
    "vocab_size = len(TEXT.vocab)\n",
    "n_classes = 2 \n",
    "# Positive, Negative Class가 두 개\n",
    "\n",
    "'''\n",
    "# Test #\n",
    "for batch in train_iter:\n",
    "    print(batch.text)\n",
    "    print(batch.label)\n",
    "    break\n",
    "'''     "
   ]
  },
  {
   "cell_type": "code",
   "execution_count": null,
   "metadata": {
    "colab": {
     "base_uri": "https://localhost:8080/"
    },
    "id": "6fBT0CkzfBuz",
    "outputId": "42e336a1-04fa-4f37-c595-1777eb9551d5"
   },
   "outputs": [
    {
     "name": "stdout",
     "output_type": "stream",
     "text": [
      "[학습셋]: 20000 [검증셋]: 5000 [테스트셋]: 25000 [단어수]: 46159 [클래스] 2\n"
     ]
    }
   ],
   "source": [
    "print(\"[학습셋]: %d [검증셋]: %d [테스트셋]: %d [단어수]: %d [클래스] %d\"\n",
    "      % (len(trainset),len(valset), len(testset), vocab_size, n_classes))"
   ]
  },
  {
   "cell_type": "code",
   "execution_count": null,
   "metadata": {
    "id": "sNvsLlbUfBu0"
   },
   "outputs": [],
   "source": [
    "class BasicGRU(nn.Module):\n",
    "    def __init__(self, n_layers, hidden_dim, n_vocab, embed_dim, n_classes, dropout_p=0.2):\n",
    "        super(BasicGRU, self).__init__()\n",
    "        print(\"Building Basic GRU model...\")\n",
    "        self.n_layers = n_layers # 일반적으로는 2\n",
    "\n",
    "        #n_vocab : Vocab 안에 있는 단어의 개수, embed_dim : 임베딩 된 단어 텐서가 갖는 차원 값(dimension)\n",
    "        self.embed = nn.Embedding(n_vocab, embed_dim)\n",
    "\n",
    "        # hidden state vector의 dimension과 dropout 정의\n",
    "        self.hidden_dim = hidden_dim\n",
    "        self.dropout = nn.Dropout(dropout_p)\n",
    "\n",
    "        #앞에서 정의한 하이퍼 파라미터를 넣어 GRU 정의\n",
    "        self.gru = nn.GRU(embed_dim, self.hidden_dim,\n",
    "                          num_layers=self.n_layers,\n",
    "                          batch_first=True)\n",
    "        \n",
    "        #Input: GRU의 hidden state vector(context), Output : Class probability vector\n",
    "        self.out = nn.Linear(self.hidden_dim, n_classes)\n",
    "\n",
    "    def forward(self, x):\n",
    "        # Input data: 한 batch 내 모든 영화 평가 데이터\n",
    "        \n",
    "        x = self.embed(x)# 영화 평 임베딩\n",
    "\n",
    "        h_0 = self._init_state(batch_size=x.size(0)) # 초기 hidden state vector를 zero vector로 생성\n",
    "        x, _ = self.gru(x, h_0)  # [i, b, h] 출력값 :  (batch_size, 입력 x의 길이, hidden_dim)\n",
    "\n",
    "        # h_t : Batch 내 모든 sequential hidden state vector의 제일 마지막 토큰을 내포한 (batch_size, 1, hidden_dim)형태의 텐서 추출\n",
    "        # 다른 의미로 영화 리뷰 배열들을 압축한 hidden state vector\n",
    "        h_t = x[:,-1,:]\n",
    "\n",
    "        self.dropout(h_t)# dropout 설정 후, \n",
    "\n",
    "        # linear layer의 입력으로 주고, 각 클래스 별 결과 logit을 생성.\n",
    "        logit = self.out(h_t)  # [b, h] -> [b, o]\n",
    "        return logit\n",
    "    \n",
    "    def _init_state(self, batch_size=1):\n",
    "        weight = next(self.parameters()).data\n",
    "        return weight.new(self.n_layers, batch_size, self.hidden_dim).zero_()\n"
   ]
  },
  {
   "cell_type": "code",
   "execution_count": null,
   "metadata": {
    "id": "JXNPaXKDfBu0"
   },
   "outputs": [],
   "source": [
    "def train(model, optimizer, train_iter):\n",
    "    model.train()\n",
    "    for b, batch in enumerate(train_iter):\n",
    "        x, y = batch.text.to(DEVICE), batch.label.to(DEVICE)\n",
    "        y.data.sub_(1)  # 레이블 값을 (기존 1, 2)에서 0과 1로 변환\n",
    "        optimizer.zero_grad()# 매번 기울기를 새로 계산하기 위해서 zero 로 초기화\n",
    "        logit = model(x)#모델의 예측값 logit 계산\n",
    "        loss = F.cross_entropy(logit, y)# logit과 실제 label간의 오차를 구하고 기울기 계산\n",
    "        loss.backward()\n",
    "        optimizer.step()\n",
    "\n",
    "\n",
    "        if b % 30 == 0:\n",
    "            print(\"Train Epoch: {} [{}/{} ({:.0f}%)]\\tTrain Loss: {:.6f}\".format(\n",
    "                e, b * len(x), \n",
    "                len(train_iter.dataset), 100. * b / len(train_iter), \n",
    "                loss.item()))\n",
    "        "
   ]
  },
  {
   "cell_type": "code",
   "execution_count": null,
   "metadata": {
    "id": "TD2EH8NmfBu0"
   },
   "outputs": [],
   "source": [
    "def evaluate(model, val_iter):\n",
    "    \"\"\"evaluate model\"\"\"\n",
    "    model.eval()\n",
    "    corrects, total_loss = 0, 0\n",
    "    for batch in val_iter:# Validation 데이터셋에 대하여 \n",
    "        x, y = batch.text.to(DEVICE), batch.label.to(DEVICE)\n",
    "        y.data.sub_(1) # 레이블 값을 0과 1로 변환\n",
    "        logit = model(x)\n",
    "        loss = F.cross_entropy(logit, y, reduction='sum')\n",
    "        total_loss += loss.item()\n",
    "        corrects += (logit.max(1)[1].view(y.size()).data == y.data).sum()\n",
    "    #전체 validation 셋에 대한 평균 loss와 accuracy를 구하는 과정\n",
    "    size = len(val_iter.dataset)\n",
    "    avg_loss = total_loss / size\n",
    "    avg_accuracy = 100.0 * corrects / size\n",
    "    return avg_loss, avg_accuracy"
   ]
  },
  {
   "cell_type": "code",
   "execution_count": null,
   "metadata": {
    "colab": {
     "base_uri": "https://localhost:8080/"
    },
    "id": "xKBnEOeRfBu1",
    "outputId": "315c7ceb-85ba-4a7f-87f9-d35c72254b20"
   },
   "outputs": [
    {
     "name": "stdout",
     "output_type": "stream",
     "text": [
      "Building Basic GRU model...\n"
     ]
    }
   ],
   "source": [
    "model = BasicGRU(1, 256, vocab_size, 128, n_classes, 0.5).to(DEVICE)\n",
    "optimizer = torch.optim.Adam(model.parameters(), lr=lr)"
   ]
  },
  {
   "cell_type": "code",
   "execution_count": null,
   "metadata": {
    "colab": {
     "base_uri": "https://localhost:8080/"
    },
    "id": "1KkkqAK5fBu1",
    "outputId": "b346a51e-12a1-4f1b-87e1-2cdd9de1be20"
   },
   "outputs": [
    {
     "name": "stdout",
     "output_type": "stream",
     "text": [
      "Train Epoch: 1 [0/20000 (0%)]\tTrain Loss: 0.707375\n",
      "Train Epoch: 1 [1920/20000 (10%)]\tTrain Loss: 0.706541\n",
      "Train Epoch: 1 [3840/20000 (19%)]\tTrain Loss: 0.691229\n",
      "Train Epoch: 1 [5760/20000 (29%)]\tTrain Loss: 0.702576\n",
      "Train Epoch: 1 [7680/20000 (38%)]\tTrain Loss: 0.688980\n",
      "Train Epoch: 1 [9600/20000 (48%)]\tTrain Loss: 0.692748\n",
      "Train Epoch: 1 [11520/20000 (58%)]\tTrain Loss: 0.696841\n",
      "Train Epoch: 1 [13440/20000 (67%)]\tTrain Loss: 0.731383\n",
      "Train Epoch: 1 [15360/20000 (77%)]\tTrain Loss: 0.689197\n",
      "Train Epoch: 1 [17280/20000 (86%)]\tTrain Loss: 0.688158\n",
      "Train Epoch: 1 [19200/20000 (96%)]\tTrain Loss: 0.709162\n",
      "[이폭: 1] 검증 오차: 0.69 | 검증 정확도:49.70\n",
      "Train Epoch: 2 [0/20000 (0%)]\tTrain Loss: 0.696883\n",
      "Train Epoch: 2 [1920/20000 (10%)]\tTrain Loss: 0.696512\n",
      "Train Epoch: 2 [3840/20000 (19%)]\tTrain Loss: 0.690508\n",
      "Train Epoch: 2 [5760/20000 (29%)]\tTrain Loss: 0.698974\n",
      "Train Epoch: 2 [7680/20000 (38%)]\tTrain Loss: 0.684536\n",
      "Train Epoch: 2 [9600/20000 (48%)]\tTrain Loss: 0.693768\n",
      "Train Epoch: 2 [11520/20000 (58%)]\tTrain Loss: 0.722033\n",
      "Train Epoch: 2 [13440/20000 (67%)]\tTrain Loss: 0.704838\n",
      "Train Epoch: 2 [15360/20000 (77%)]\tTrain Loss: 0.713810\n",
      "Train Epoch: 2 [17280/20000 (86%)]\tTrain Loss: 0.680727\n",
      "Train Epoch: 2 [19200/20000 (96%)]\tTrain Loss: 0.683486\n",
      "[이폭: 2] 검증 오차: 0.69 | 검증 정확도:52.08\n",
      "Train Epoch: 3 [0/20000 (0%)]\tTrain Loss: 0.704421\n",
      "Train Epoch: 3 [1920/20000 (10%)]\tTrain Loss: 0.685298\n",
      "Train Epoch: 3 [3840/20000 (19%)]\tTrain Loss: 0.692771\n",
      "Train Epoch: 3 [5760/20000 (29%)]\tTrain Loss: 0.698595\n",
      "Train Epoch: 3 [7680/20000 (38%)]\tTrain Loss: 0.687946\n",
      "Train Epoch: 3 [9600/20000 (48%)]\tTrain Loss: 0.677268\n",
      "Train Epoch: 3 [11520/20000 (58%)]\tTrain Loss: 0.684742\n",
      "Train Epoch: 3 [13440/20000 (67%)]\tTrain Loss: 0.689377\n",
      "Train Epoch: 3 [15360/20000 (77%)]\tTrain Loss: 0.689565\n",
      "Train Epoch: 3 [17280/20000 (86%)]\tTrain Loss: 0.695389\n",
      "Train Epoch: 3 [19200/20000 (96%)]\tTrain Loss: 0.708681\n",
      "[이폭: 3] 검증 오차: 0.69 | 검증 정확도:54.72\n",
      "Train Epoch: 4 [0/20000 (0%)]\tTrain Loss: 0.692310\n",
      "Train Epoch: 4 [1920/20000 (10%)]\tTrain Loss: 0.686799\n",
      "Train Epoch: 4 [3840/20000 (19%)]\tTrain Loss: 0.691471\n",
      "Train Epoch: 4 [5760/20000 (29%)]\tTrain Loss: 0.710132\n",
      "Train Epoch: 4 [7680/20000 (38%)]\tTrain Loss: 0.692395\n",
      "Train Epoch: 4 [9600/20000 (48%)]\tTrain Loss: 0.702684\n",
      "Train Epoch: 4 [11520/20000 (58%)]\tTrain Loss: 0.686306\n",
      "Train Epoch: 4 [13440/20000 (67%)]\tTrain Loss: 0.690887\n",
      "Train Epoch: 4 [15360/20000 (77%)]\tTrain Loss: 0.682847\n",
      "Train Epoch: 4 [17280/20000 (86%)]\tTrain Loss: 0.680104\n",
      "Train Epoch: 4 [19200/20000 (96%)]\tTrain Loss: 0.714159\n",
      "[이폭: 4] 검증 오차: 0.69 | 검증 정확도:55.22\n",
      "Train Epoch: 5 [0/20000 (0%)]\tTrain Loss: 0.686758\n",
      "Train Epoch: 5 [1920/20000 (10%)]\tTrain Loss: 0.681876\n",
      "Train Epoch: 5 [3840/20000 (19%)]\tTrain Loss: 0.704494\n",
      "Train Epoch: 5 [5760/20000 (29%)]\tTrain Loss: 0.685784\n",
      "Train Epoch: 5 [7680/20000 (38%)]\tTrain Loss: 0.643467\n",
      "Train Epoch: 5 [9600/20000 (48%)]\tTrain Loss: 0.660298\n",
      "Train Epoch: 5 [11520/20000 (58%)]\tTrain Loss: 0.638271\n",
      "Train Epoch: 5 [13440/20000 (67%)]\tTrain Loss: 0.646954\n",
      "Train Epoch: 5 [15360/20000 (77%)]\tTrain Loss: 0.668539\n",
      "Train Epoch: 5 [17280/20000 (86%)]\tTrain Loss: 0.688267\n",
      "Train Epoch: 5 [19200/20000 (96%)]\tTrain Loss: 0.648530\n",
      "[이폭: 5] 검증 오차: 0.59 | 검증 정확도:71.60\n",
      "Train Epoch: 6 [0/20000 (0%)]\tTrain Loss: 0.581142\n",
      "Train Epoch: 6 [1920/20000 (10%)]\tTrain Loss: 0.445518\n",
      "Train Epoch: 6 [3840/20000 (19%)]\tTrain Loss: 0.451577\n",
      "Train Epoch: 6 [5760/20000 (29%)]\tTrain Loss: 0.411810\n",
      "Train Epoch: 6 [7680/20000 (38%)]\tTrain Loss: 0.356682\n",
      "Train Epoch: 6 [9600/20000 (48%)]\tTrain Loss: 0.573521\n",
      "Train Epoch: 6 [11520/20000 (58%)]\tTrain Loss: 0.400704\n",
      "Train Epoch: 6 [13440/20000 (67%)]\tTrain Loss: 0.337119\n",
      "Train Epoch: 6 [15360/20000 (77%)]\tTrain Loss: 0.265707\n",
      "Train Epoch: 6 [17280/20000 (86%)]\tTrain Loss: 0.257807\n",
      "Train Epoch: 6 [19200/20000 (96%)]\tTrain Loss: 0.332989\n",
      "[이폭: 6] 검증 오차: 0.34 | 검증 정확도:85.88\n",
      "Train Epoch: 7 [0/20000 (0%)]\tTrain Loss: 0.165409\n",
      "Train Epoch: 7 [1920/20000 (10%)]\tTrain Loss: 0.217601\n",
      "Train Epoch: 7 [3840/20000 (19%)]\tTrain Loss: 0.098038\n",
      "Train Epoch: 7 [5760/20000 (29%)]\tTrain Loss: 0.215488\n",
      "Train Epoch: 7 [7680/20000 (38%)]\tTrain Loss: 0.122512\n",
      "Train Epoch: 7 [9600/20000 (48%)]\tTrain Loss: 0.225145\n",
      "Train Epoch: 7 [11520/20000 (58%)]\tTrain Loss: 0.132298\n",
      "Train Epoch: 7 [13440/20000 (67%)]\tTrain Loss: 0.285816\n",
      "Train Epoch: 7 [15360/20000 (77%)]\tTrain Loss: 0.277195\n",
      "Train Epoch: 7 [17280/20000 (86%)]\tTrain Loss: 0.186619\n",
      "Train Epoch: 7 [19200/20000 (96%)]\tTrain Loss: 0.315692\n",
      "[이폭: 7] 검증 오차: 0.31 | 검증 정확도:87.24\n",
      "Train Epoch: 8 [0/20000 (0%)]\tTrain Loss: 0.124429\n",
      "Train Epoch: 8 [1920/20000 (10%)]\tTrain Loss: 0.017943\n",
      "Train Epoch: 8 [3840/20000 (19%)]\tTrain Loss: 0.096876\n",
      "Train Epoch: 8 [5760/20000 (29%)]\tTrain Loss: 0.102504\n",
      "Train Epoch: 8 [7680/20000 (38%)]\tTrain Loss: 0.141204\n",
      "Train Epoch: 8 [9600/20000 (48%)]\tTrain Loss: 0.094126\n",
      "Train Epoch: 8 [11520/20000 (58%)]\tTrain Loss: 0.038645\n",
      "Train Epoch: 8 [13440/20000 (67%)]\tTrain Loss: 0.068448\n",
      "Train Epoch: 8 [15360/20000 (77%)]\tTrain Loss: 0.043420\n",
      "Train Epoch: 8 [17280/20000 (86%)]\tTrain Loss: 0.058446\n",
      "Train Epoch: 8 [19200/20000 (96%)]\tTrain Loss: 0.125010\n",
      "[이폭: 8] 검증 오차: 0.33 | 검증 정확도:86.86\n",
      "Train Epoch: 9 [0/20000 (0%)]\tTrain Loss: 0.023878\n",
      "Train Epoch: 9 [1920/20000 (10%)]\tTrain Loss: 0.106498\n",
      "Train Epoch: 9 [3840/20000 (19%)]\tTrain Loss: 0.043132\n",
      "Train Epoch: 9 [5760/20000 (29%)]\tTrain Loss: 0.014643\n",
      "Train Epoch: 9 [7680/20000 (38%)]\tTrain Loss: 0.013316\n",
      "Train Epoch: 9 [9600/20000 (48%)]\tTrain Loss: 0.006116\n",
      "Train Epoch: 9 [11520/20000 (58%)]\tTrain Loss: 0.007682\n",
      "Train Epoch: 9 [13440/20000 (67%)]\tTrain Loss: 0.097335\n",
      "Train Epoch: 9 [15360/20000 (77%)]\tTrain Loss: 0.035096\n",
      "Train Epoch: 9 [17280/20000 (86%)]\tTrain Loss: 0.005521\n",
      "Train Epoch: 9 [19200/20000 (96%)]\tTrain Loss: 0.025068\n",
      "[이폭: 9] 검증 오차: 0.35 | 검증 정확도:87.16\n",
      "Train Epoch: 10 [0/20000 (0%)]\tTrain Loss: 0.017933\n",
      "Train Epoch: 10 [1920/20000 (10%)]\tTrain Loss: 0.105734\n",
      "Train Epoch: 10 [3840/20000 (19%)]\tTrain Loss: 0.003409\n",
      "Train Epoch: 10 [5760/20000 (29%)]\tTrain Loss: 0.008512\n",
      "Train Epoch: 10 [7680/20000 (38%)]\tTrain Loss: 0.005234\n",
      "Train Epoch: 10 [9600/20000 (48%)]\tTrain Loss: 0.007382\n",
      "Train Epoch: 10 [11520/20000 (58%)]\tTrain Loss: 0.015949\n",
      "Train Epoch: 10 [13440/20000 (67%)]\tTrain Loss: 0.007024\n",
      "Train Epoch: 10 [15360/20000 (77%)]\tTrain Loss: 0.004479\n",
      "Train Epoch: 10 [17280/20000 (86%)]\tTrain Loss: 0.019669\n",
      "Train Epoch: 10 [19200/20000 (96%)]\tTrain Loss: 0.002866\n",
      "[이폭: 10] 검증 오차: 0.39 | 검증 정확도:87.00\n"
     ]
    }
   ],
   "source": [
    "best_val_loss = None\n",
    "for e in range(1, EPOCHS+1):\n",
    "    train(model, optimizer, train_iter)\n",
    "    val_loss, val_accuracy = evaluate(model, val_iter)\n",
    "\n",
    "    print(\"[이폭: %d] 검증 오차:%5.2f | 검증 정확도:%5.2f\" % (e, val_loss, val_accuracy))\n",
    "    \n",
    "  "
   ]
  }
 ],
 "metadata": {
  "accelerator": "GPU",
  "colab": {
   "name": "GRU.ipynb",
   "provenance": []
  },
  "kernelspec": {
   "display_name": "Python 3",
   "language": "python",
   "name": "python3"
  },
  "language_info": {
   "codemirror_mode": {
    "name": "ipython",
    "version": 3
   },
   "file_extension": ".py",
   "mimetype": "text/x-python",
   "name": "python",
   "nbconvert_exporter": "python",
   "pygments_lexer": "ipython3",
   "version": "3.7.6"
  }
 },
 "nbformat": 4,
 "nbformat_minor": 1
}
